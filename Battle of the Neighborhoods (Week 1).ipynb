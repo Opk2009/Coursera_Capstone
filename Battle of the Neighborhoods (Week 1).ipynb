{
    "cells": [
        {
            "cell_type": "markdown",
            "metadata": {
                "collapsed": true
            },
            "source": "# Battle of the Neighborhoods (Week 1)"
        },
        {
            "cell_type": "markdown",
            "metadata": {},
            "source": "This noteboook is the first part of a two part capstone project for the IBM Data Science professional certificate as hosted by Coursera. In this capstone project, location data from Foursquare will primarily be used in order to solve a problem. The first part of this project (current notebook) will include two sections of the finished project. These two sections will include a description of the problem and background discussion along with a data description and the way it will be used to solve the chosen problem. "
        },
        {
            "cell_type": "markdown",
            "metadata": {},
            "source": "## Problem Background"
        },
        {
            "cell_type": "markdown",
            "metadata": {},
            "source": "Rock climbing, as the name implies, is a sport in which people ascend natural rock formations with the goal of completing a preset route that terminates at an anchor point or any other indicator of the route end. There are two main categories of rock climbing: aid climbing and free climbing. The main difference lies in the usage of mechanical assistance. Free climbing includes bouldering, soloing, sport, and traditional climbing. Personally, I started rock climbing in the winter of 2016. Being from a city in Northern British Columbia, this gym proved to be a great addition to the community as the outdoor climbing locations are covered with snow for approximately half of the year. Indoor climbing gyms are great additions to cities and towns for many reasons. The gyms provide a place for beginner climbers to try the sport in a controlled environment while more advanced climbers have a place to train and improve their skills in the colder seasons of the year. Due to the creation of the gym in my hometown, I started to think of larger cities across the country where this type of facility would be feasible. After this consideration, I decided to focus on the city of Vancouver, British Columbia."
        },
        {
            "cell_type": "markdown",
            "metadata": {},
            "source": "## Problem Description"
        },
        {
            "cell_type": "markdown",
            "metadata": {},
            "source": "Vancouver, British Columbia is a major city in Canada and is home to many cultural and post-secondary institutions. With a population of 675 200 as of 2017, the city is consistently ranked as having a high livability rating despite having the most expensive housing market in the nation. During my preliminary research for a problem to solve for this project, I noticed that there were numerous traditional fitness facilities located across the city (e.g. strength and weight training). However, I noticed that there were few alternative fitness options (e.g. rock climbing facilities) that were available to the public in a city the size of Vancouver. The facilities that are already present in this city are located very far apart. For this project, I have decided to determine where the best area of Vancouver, Britsh Columbia to open a rock climbing gym. Numerous factors will be taken into account in order to provide a proper solution to this problem."
        },
        {
            "cell_type": "markdown",
            "metadata": {},
            "source": "## Data Description"
        },
        {
            "cell_type": "markdown",
            "metadata": {},
            "source": "In order to provide a proper solution to this problem, there are numerous considerations that must be made in order to choose the proper location.\nThe potential considerations to be made are as follows:\n\n1.) location traffic (vehicle and pedestrian)\n2.) potential business competitors in the area/types of surrounding           venues\n3.) location safety\n4.) propery cost in the area\n    \nIn order to address the aforementioned considerations, various data sources will be used. The following sources of data are as follows\n\n1.) Vancouver Neighbourhood Population Census 2011 - DH Vancouver (local news website)\n\nFoursquare API Data\n\n2.) Foursquare API Data\n\n3.) Vancouver Crime Data 2019 (Vancouver Police Department)\n\n4.) Zolo, Real Estate Wire (local real estate website)\n"
        },
        {
            "cell_type": "markdown",
            "metadata": {},
            "source": "## Data Usage"
        },
        {
            "cell_type": "markdown",
            "metadata": {},
            "source": "Each of the datasets/web pages lised in the above section will be used to complete one of the criteria/considerations. Due to the fact that I was not able to find a very recent data set that showed the population of Vanvouver as split by population, I decided to also use Fousquare data in order to bolster the effectiveness of the location assessment. The neighborhood population data found was from 2011. The additional Foursquare data will we used to try and gauge the amount of traffic that the venues in the same area experience. More venues in the area can be indicative of more potential people that would be interested in visiting a new business. In addition to being used to assess location traffic, Foursquare data will also be used in order to assess the potential level of competition. The business competition level will be dependent upon the number of similar venues that are located in the same area. Venues that are not of the same type can prove to be beneficial as they may be of interest to people who would otherwise not have attended such a gym had one not been present in their area. to many cultural and post-secondary institutions. Vancouver crime data from 2019 will be used to assess the safety of the potential location of the rock climbing gym. This data set contains the number of criminal offences committed in each neighborhood. Furthermore, this dataset is also segmented into the types of crime that have occurred. This consideration is especially important because potential patrons will not visit the business unless they do not feel safe in the area. Lastly, the real estate data will be used in order to gauge the potential property cost. This will only provide the potential stakeholders with a portion of the initial startup cost. Other potential startup costs would include contracting services and climbing equipment among others.  \n\nData Source Links\n\n1.) Vancouver Neighbourhood Population Census 2011 - DH Vancouver (https://dailyhive.com/vancouver/vancouver-neighbourhood-population-census-2011)\n\nFoursquare API Data \n\n2.) Foursquare API Data\n\n3.) Vancouver Crime Data 2019 (https://vancouver.ca/police/Planning/2019/2019N.pdf)\n\n4.) Zolo - Vancouver (https://www.zolo.ca/vancouver-real-estate/commercial) \n\nReal Estate Wire - Vancouver (https://www.rew.ca/properties/areas/vancouver-bc/page/2?top_level_searchable_id=361&top_level_searchable_type=Geography)"
        }
    ],
    "metadata": {
        "kernelspec": {
            "display_name": "Python 3.7",
            "language": "python",
            "name": "python3"
        },
        "language_info": {
            "codemirror_mode": {
                "name": "ipython",
                "version": 3
            },
            "file_extension": ".py",
            "mimetype": "text/x-python",
            "name": "python",
            "nbconvert_exporter": "python",
            "pygments_lexer": "ipython3",
            "version": "3.7.9"
        }
    },
    "nbformat": 4,
    "nbformat_minor": 1
}